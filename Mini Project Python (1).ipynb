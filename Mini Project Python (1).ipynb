{
 "cells": [
  {
   "cell_type": "markdown",
   "metadata": {},
   "source": [
    "# Courier Management System"
   ]
  },
  {
   "cell_type": "markdown",
   "metadata": {},
   "source": [
    "<table align=\"center\">\n",
    "    <tr>\n",
    "        <td width=\"6%\">\n",
    "            <img src=\"_itp.PNG\">\n",
    "        </td>\n",
    "        </tr>\n",
    "</table>"
   ]
  },
  {
   "cell_type": "code",
   "execution_count": 4,
   "metadata": {},
   "outputs": [
    {
     "data": {
      "text/plain": [
       "{101: [1, 3, '14-03-2020', '25-03-2020', 'Area1', 'Area6', 'Delivered', 198],\n",
       " 102: [4, 1, '18-06-2020', '09-07-2020', 'Area2', 'Area4', 'Delivered', 275],\n",
       " 103: [2, 3, '01-12-2020', 'Null', 'Area5', 'Area1', 'In-Transit', 200],\n",
       " 104: [1, 5, '23-06-2020', '25-06-2020', 'Area1', 'Area4', 'Delivered', 314],\n",
       " 105: [3, 4, '29-08-2020', '10-09-2020', 'Area5', 'Area3', 'Delivered', 275],\n",
       " 106: [5, 2, '28-09-2020', 'Null', 'Area3', 'Area1', 'In-Transit', 270]}"
      ]
     },
     "execution_count": 4,
     "metadata": {},
     "output_type": "execute_result"
    }
   ],
   "source": [
    "# Q1. Create a Dictionary of lists to store the information of shipments given in the table\n",
    "\n",
    "ship = {101 : [1,3,'14-03-2020','25-03-2020','Area1','Area6','Delivered',198],\n",
    "        102 : [4,1,'18-06-2020','09-07-2020','Area2','Area4','Delivered',275],\n",
    "        103 : [2,3,'01-12-2020','Null','Area5','Area1','In-Transit',200],\n",
    "        104 : [1,5,'23-06-2020','25-06-2020','Area1','Area4','Delivered',314],\n",
    "        105 : [3,4,'29-08-2020','10-09-2020','Area5','Area3','Delivered',275],\n",
    "        106 : [5,2,'28-09-2020','Null','Area3','Area1','In-Transit',270]\n",
    "       }\n",
    "\n",
    "ship"
   ]
  },
  {
   "cell_type": "code",
   "execution_count": 5,
   "metadata": {},
   "outputs": [
    {
     "data": {
      "text/plain": [
       "[[0, 1, 0, 0, 0, 1],\n",
       " [1, 0, 1, 1, 0, 0],\n",
       " [0, 1, 0, 1, 0, 0],\n",
       " [0, 1, 1, 0, 1, 0],\n",
       " [0, 0, 0, 1, 0, 0],\n",
       " [1, 0, 0, 0, 0, 0]]"
      ]
     },
     "execution_count": 5,
     "metadata": {},
     "output_type": "execute_result"
    }
   ],
   "source": [
    "matrix = [[0,1,0,0,0,1], [1,0,1,1,0,0],[0,1,0,1,0,0], [0,1,1,0,1,0],[0,0,0,1,0,0], [1,0,0,0,0,0]]\n",
    "\n",
    "matrix"
   ]
  },
  {
   "cell_type": "code",
   "execution_count": 6,
   "metadata": {},
   "outputs": [
    {
     "data": {
      "text/plain": [
       "'Philip'"
      ]
     },
     "execution_count": 6,
     "metadata": {},
     "output_type": "execute_result"
    }
   ],
   "source": [
    "# Q2. Create a Dictionary of to store the information of clients given in the table.\n",
    "\n",
    "clients = {1:'Philip', 2:'Omega III', 3:'Ramya', 4:'Romesh', 5:'John'}\n",
    "\n",
    "clients[1]"
   ]
  },
  {
   "cell_type": "code",
   "execution_count": 18,
   "metadata": {},
   "outputs": [
    {
     "data": {
      "text/plain": [
       "'Philip'"
      ]
     },
     "execution_count": 18,
     "metadata": {},
     "output_type": "execute_result"
    }
   ],
   "source": [
    "clients[ship[101][0]]"
   ]
  },
  {
   "cell_type": "code",
   "execution_count": 10,
   "metadata": {},
   "outputs": [
    {
     "data": {
      "text/plain": [
       "{101: ['Philip',\n",
       "  'Ramya',\n",
       "  '14-03-2020',\n",
       "  '25-03-2020',\n",
       "  'Area1',\n",
       "  'Area6',\n",
       "  'Delivered',\n",
       "  198],\n",
       " 102: ['Romesh',\n",
       "  'Philip',\n",
       "  '18-06-2020',\n",
       "  '09-07-2020',\n",
       "  'Area2',\n",
       "  'Area4',\n",
       "  'Delivered',\n",
       "  275],\n",
       " 103: ['Omega III',\n",
       "  'Ramya',\n",
       "  '01-12-2020',\n",
       "  'Null',\n",
       "  'Area5',\n",
       "  'Area1',\n",
       "  'In-Transit',\n",
       "  200],\n",
       " 104: ['Philip',\n",
       "  'John',\n",
       "  '23-06-2020',\n",
       "  '25-06-2020',\n",
       "  'Area1',\n",
       "  'Area4',\n",
       "  'Delivered',\n",
       "  314],\n",
       " 105: ['Ramya',\n",
       "  'Romesh',\n",
       "  '29-08-2020',\n",
       "  '10-09-2020',\n",
       "  'Area5',\n",
       "  'Area3',\n",
       "  'Delivered',\n",
       "  275],\n",
       " 106: ['John',\n",
       "  'Omega III',\n",
       "  '28-09-2020',\n",
       "  'Null',\n",
       "  'Area3',\n",
       "  'Area1',\n",
       "  'In-Transit',\n",
       "  270]}"
      ]
     },
     "execution_count": 10,
     "metadata": {},
     "output_type": "execute_result"
    }
   ],
   "source": [
    "#Q3 another approach.\n",
    "\n",
    "ship = {key : [clients.get(value, value) for value in values] for (key, values) in ship.items()}\n",
    "\n",
    "ship"
   ]
  },
  {
   "cell_type": "code",
   "execution_count": 19,
   "metadata": {},
   "outputs": [
    {
     "data": {
      "text/plain": [
       "{101: ['Philip',\n",
       "  'Ramya',\n",
       "  '14-03-2020',\n",
       "  '25-03-2020',\n",
       "  'Area1',\n",
       "  'Area6',\n",
       "  'Delivered',\n",
       "  198],\n",
       " 102: ['Romesh',\n",
       "  'Philip',\n",
       "  '18-06-2020',\n",
       "  '09-07-2020',\n",
       "  'Area2',\n",
       "  'Area4',\n",
       "  'Delivered',\n",
       "  275],\n",
       " 103: ['Omega III',\n",
       "  'Ramya',\n",
       "  '01-12-2020',\n",
       "  'Null',\n",
       "  'Area5',\n",
       "  'Area1',\n",
       "  'In-Transit',\n",
       "  200],\n",
       " 104: ['Philip',\n",
       "  'John',\n",
       "  '23-06-2020',\n",
       "  '25-06-2020',\n",
       "  'Area1',\n",
       "  'Area4',\n",
       "  'Delivered',\n",
       "  314],\n",
       " 105: ['Ramya',\n",
       "  'Romesh',\n",
       "  '29-08-2020',\n",
       "  '10-09-2020',\n",
       "  'Area5',\n",
       "  'Area3',\n",
       "  'Delivered',\n",
       "  275],\n",
       " 106: ['John',\n",
       "  'Omega III',\n",
       "  '28-09-2020',\n",
       "  'Null',\n",
       "  'Area3',\n",
       "  'Area1',\n",
       "  'In-Transit',\n",
       "  270]}"
      ]
     },
     "execution_count": 19,
     "metadata": {},
     "output_type": "execute_result"
    }
   ],
   "source": [
    "# Q3. Write a code to replace client’s id with their respective name in shipment dictionary using a loop and dictionary comprehension\n",
    "\n",
    "for i in ship:\n",
    "    a = ship[i][0]\n",
    "    b = ship[i][1]\n",
    "    ship[i][0] = clients[a]\n",
    "    ship[i][1] = clients[b]\n",
    "    \n",
    "ship"
   ]
  },
  {
   "cell_type": "code",
   "execution_count": 20,
   "metadata": {},
   "outputs": [
    {
     "name": "stdout",
     "output_type": "stream",
     "text": [
      "['Philip', 'Ramya', '14-03-2020', '25-03-2020', 'Area1', 'Area6', 'Delivered', 198]\n",
      "['Philip', 'John', '23-06-2020', '25-06-2020', 'Area1', 'Area4', 'Delivered', 314]\n"
     ]
    }
   ],
   "source": [
    "# Q4. Print all shipment details that are sent by Phillip\n",
    "\n",
    "for i in ship:\n",
    "    if(ship[i][0] == 'Philip'):\n",
    "        print(ship[i])"
   ]
  },
  {
   "cell_type": "code",
   "execution_count": 21,
   "metadata": {},
   "outputs": [
    {
     "name": "stdout",
     "output_type": "stream",
     "text": [
      "['Philip', 'Ramya', '14-03-2020', '25-03-2020', 'Area1', 'Area6', 'Delivered', 198]\n",
      "['Omega III', 'Ramya', '01-12-2020', 'Null', 'Area5', 'Area1', 'In-Transit', 200]\n"
     ]
    }
   ],
   "source": [
    "# Q5. Print all shipment details that are received by Ramya\n",
    "\n",
    "for i in ship:\n",
    "    if(ship[i][1] == 'Ramya'):\n",
    "        print(ship[i])"
   ]
  },
  {
   "cell_type": "code",
   "execution_count": 22,
   "metadata": {},
   "outputs": [
    {
     "name": "stdout",
     "output_type": "stream",
     "text": [
      "['Omega III', 'Ramya', '01-12-2020', 'Null', 'Area5', 'Area1', 'In-Transit', 200]\n",
      "['John', 'Omega III', '28-09-2020', 'Null', 'Area3', 'Area1', 'In-Transit', 270]\n"
     ]
    }
   ],
   "source": [
    "# Q6. Print all shipments which are in 'In-Transit' status\n",
    "\n",
    "for i in ship:\n",
    "    if(ship[i][6] == 'In-Transit'):\n",
    "        print(ship[i])"
   ]
  },
  {
   "cell_type": "code",
   "execution_count": 24,
   "metadata": {},
   "outputs": [
    {
     "name": "stdout",
     "output_type": "stream",
     "text": [
      "['Philip', 'John', '23-06-2020', '25-06-2020', 'Area1', 'Area4', 'Delivered', 314]\n"
     ]
    }
   ],
   "source": [
    "# Q7. Print all shipments which are delivered within 7 days of courier Start date\n",
    "\n",
    "import datetime as dt\n",
    "\n",
    "for i in ship:\n",
    "    if(ship[i][3] != 'Null'):\n",
    "        start = dt.datetime.strptime(ship[i][2], \"%d-%m-%Y\")\n",
    "        end = dt.datetime.strptime(ship[i][3], \"%d-%m-%Y\")\n",
    "        if(end-start) <= dt.timedelta(days=7):\n",
    "            print(ship[i])"
   ]
  },
  {
   "cell_type": "code",
   "execution_count": 25,
   "metadata": {},
   "outputs": [
    {
     "name": "stdout",
     "output_type": "stream",
     "text": [
      "['Romesh', 'Philip', '18-06-2020', '09-07-2020', 'Area2', 'Area4', 'Delivered', 275]\n",
      "['Omega III', 'Ramya', '01-12-2020', 'Null', 'Area5', 'Area1', 'In-Transit', 200]\n",
      "['John', 'Omega III', '28-09-2020', 'Null', 'Area3', 'Area1', 'In-Transit', 270]\n"
     ]
    }
   ],
   "source": [
    "# Q8. Print all shipments which are delivered after 15 days of courier start date or not yet been delivered.\n",
    "\n",
    "import datetime as dt\n",
    "\n",
    "for i in ship:\n",
    "    if(ship[i][3] == 'Null'):\n",
    "        print(ship[i])\n",
    "    else:\n",
    "        start = dt.datetime.strptime(ship[i][2], \"%d-%m-%Y\")\n",
    "        end = dt.datetime.strptime(ship[i][3], \"%d-%m-%Y\")\n",
    "        if (end-start) > dt.timedelta(days = 15):\n",
    "            print(ship[i])"
   ]
  },
  {
   "cell_type": "code",
   "execution_count": 26,
   "metadata": {},
   "outputs": [],
   "source": [
    "# Q 9. Write a function find_all_routes to display all possible routes from senders location to receivers location given in the dictionary for each shipment.\n",
    "\n",
    "matrix = [[0,1,0,0,0,1], [1,0,1,1,0,0],[0,1,0,1,0,0], [0,1,1,0,1,0],[0,0,0,1,0,0], [1,0,0,0,0,0]]\n",
    "\n",
    "visited = [False for i in range(6)]\n",
    "\n",
    "path = []\n"
   ]
  },
  {
   "cell_type": "code",
   "execution_count": 27,
   "metadata": {},
   "outputs": [],
   "source": [
    "def find_all_routes (matrix, u ,d, visited, path):\n",
    "    visited[u] = True\n",
    "    path.append(u + 1)\n",
    "    if u == d:\n",
    "        print(path)\n",
    "    else:\n",
    "        \n",
    "        for i in range(6):\n",
    "            if matrix[u][i] == 1 and visited[i] == False :\n",
    "                find_all_routes(matrix, i ,d, visited, path)\n",
    "                \n",
    "    path.pop()\n",
    "    visited[u] = False\n",
    "    \n",
    "#find_all_routes (matrix, u ,d, visited, path)\n",
    "\n",
    "matrix = [[0,1,0,0,0,1], [1,0,1,1,0,0],[0,1,0,1,0,0], [0,1,1,0,1,0],[0,0,0,1,0,0], [1,0,0,0,0,0]]\n",
    "\n",
    "visited = [False for i in range(6)]\n",
    "\n",
    "path = []"
   ]
  },
  {
   "cell_type": "code",
   "execution_count": 28,
   "metadata": {},
   "outputs": [
    {
     "data": {
      "text/plain": [
       "[False, False, False, False, False, False]"
      ]
     },
     "execution_count": 28,
     "metadata": {},
     "output_type": "execute_result"
    }
   ],
   "source": [
    "visited"
   ]
  },
  {
   "cell_type": "code",
   "execution_count": 29,
   "metadata": {},
   "outputs": [
    {
     "data": {
      "text/plain": [
       "[False, False, False, False, False, False]"
      ]
     },
     "execution_count": 29,
     "metadata": {},
     "output_type": "execute_result"
    }
   ],
   "source": [
    "visited = [False for i in range(6)]\n",
    "\n",
    "visited"
   ]
  },
  {
   "cell_type": "code",
   "execution_count": 30,
   "metadata": {},
   "outputs": [
    {
     "name": "stdout",
     "output_type": "stream",
     "text": [
      "shipment ID: 101\n",
      "sender location 1\n",
      "receiver location 6\n",
      "all possible routes :\n",
      "[1, 6]\n",
      "----------------------------------------\n",
      "shipment ID: 102\n",
      "sender location 2\n",
      "receiver location 4\n",
      "all possible routes :\n",
      "[2, 3, 4]\n",
      "[2, 4]\n",
      "----------------------------------------\n",
      "shipment ID: 103\n",
      "sender location 5\n",
      "receiver location 1\n",
      "all possible routes :\n",
      "[5, 4, 2, 1]\n",
      "[5, 4, 3, 2, 1]\n",
      "----------------------------------------\n",
      "shipment ID: 104\n",
      "sender location 1\n",
      "receiver location 4\n",
      "all possible routes :\n",
      "[1, 2, 3, 4]\n",
      "[1, 2, 4]\n",
      "----------------------------------------\n",
      "shipment ID: 105\n",
      "sender location 5\n",
      "receiver location 3\n",
      "all possible routes :\n",
      "[5, 4, 2, 3]\n",
      "[5, 4, 3]\n",
      "----------------------------------------\n",
      "shipment ID: 106\n",
      "sender location 3\n",
      "receiver location 1\n",
      "all possible routes :\n",
      "[3, 2, 1]\n",
      "[3, 4, 2, 1]\n",
      "----------------------------------------\n"
     ]
    }
   ],
   "source": [
    "def Show_all(ship):\n",
    "    for i in ship:\n",
    "        print('shipment ID:', i)\n",
    "        s = int(ship[i][4][-1])\n",
    "        print('sender location', s)\n",
    "        r = int(ship[i][5][-1])\n",
    "        print('receiver location', r)\n",
    "        print('all possible routes :')\n",
    "        find_all_routes(matrix, s-1, r-1, visited, path)\n",
    "        print('----------------------------------------')\n",
    "        \n",
    "Show_all(ship)"
   ]
  },
  {
   "cell_type": "code",
   "execution_count": null,
   "metadata": {},
   "outputs": [],
   "source": []
  }
 ],
 "metadata": {
  "kernelspec": {
   "display_name": "Python 3",
   "language": "python",
   "name": "python3"
  },
  "language_info": {
   "codemirror_mode": {
    "name": "ipython",
    "version": 3
   },
   "file_extension": ".py",
   "mimetype": "text/x-python",
   "name": "python",
   "nbconvert_exporter": "python",
   "pygments_lexer": "ipython3",
   "version": "3.8.5"
  }
 },
 "nbformat": 4,
 "nbformat_minor": 4
}
